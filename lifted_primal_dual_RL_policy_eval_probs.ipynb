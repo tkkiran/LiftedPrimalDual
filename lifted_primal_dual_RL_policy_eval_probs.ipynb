{
 "cells": [
  {
   "cell_type": "code",
   "execution_count": 4,
   "source": [
    "from datetime import datetime\n",
    "import importlib\n",
    "\n",
    "import numpy as np\n",
    "import pandas as pd\n",
    "\n",
    "import matplotlib\n",
    "import matplotlib.pyplot as plt\n",
    "\n",
    "import oct2py"
   ],
   "outputs": [],
   "metadata": {}
  },
  {
   "cell_type": "code",
   "execution_count": 5,
   "source": [
    "import sklearn.decomposition as decomposition"
   ],
   "outputs": [],
   "metadata": {}
  },
  {
   "cell_type": "code",
   "execution_count": 6,
   "source": [
    "from minmax import algos, probs, utils\n",
    "importlib.reload(algos)\n",
    "importlib.reload(probs)\n",
    "importlib.reload(utils)\n",
    "\n",
    "%matplotlib inline"
   ],
   "outputs": [],
   "metadata": {}
  },
  {
   "cell_type": "markdown",
   "source": [
    "# Importing RL data"
   ],
   "metadata": {}
  },
  {
   "cell_type": "code",
   "execution_count": 7,
   "source": [
    "state = pd.read_csv('mountaincar_data/state.csv', delimiter=',', header=None).to_numpy().T#[:, :5000]\n",
    "reward = pd.read_csv('mountaincar_data/reward.csv', delimiter=',', header=None).to_numpy()#[:5000, :]\n",
    "next_state = pd.read_csv('mountaincar_data/nextstate.csv', delimiter=',', header=None).to_numpy().T#[:, :5000]"
   ],
   "outputs": [],
   "metadata": {}
  },
  {
   "cell_type": "code",
   "execution_count": 8,
   "source": [
    "data = oct2py.Struct()\n",
    "data.state = state\n",
    "data.reward = reward\n",
    "data.next_state = next_state\n",
    "data.gamma = 0.95\n",
    "data.phi = state\n",
    "data.phi_next = next_state\n",
    "\n",
    "phi = data.phi\n",
    "phi_gamma_phi_next = data.phi - data.gamma*data.phi_next\n",
    "reward_phi = data.phi.dot(data.reward)"
   ],
   "outputs": [],
   "metadata": {}
  },
  {
   "cell_type": "code",
   "execution_count": 9,
   "source": [
    "n = data.phi.shape[-1]\n",
    "A = phi.dot(phi_gamma_phi_next.T)/n\n",
    "b = reward_phi/n\n",
    "C = phi.dot(phi.T)/n"
   ],
   "outputs": [],
   "metadata": {}
  },
  {
   "cell_type": "markdown",
   "source": [
    "# RL Policy Evaluation Bi-SC-SC Problem (d=200, rho=1.0): primal-dual gap vs iteration (k)"
   ],
   "metadata": {}
  },
  {
   "cell_type": "code",
   "execution_count": 10,
   "source": [
    "pca = decomposition.PCA(n_components=200, copy=False)\n",
    "state_pca = pca.fit_transform(state.T).T\n",
    "next_state_pca = pca.transform(next_state.T).T"
   ],
   "outputs": [],
   "metadata": {}
  },
  {
   "cell_type": "code",
   "execution_count": 11,
   "source": [
    "data_pca = oct2py.Struct()\n",
    "data_pca.state = state_pca\n",
    "data_pca.reward = reward\n",
    "data_pca.next_state = next_state_pca\n",
    "data_pca.gamma = 0.95\n",
    "data_pca.phi = state_pca\n",
    "data_pca.phi_next = next_state_pca\n",
    "\n",
    "phi_pca = data_pca.phi\n",
    "phi_gamma_phi_next_pca = data_pca.phi - data_pca.gamma*data_pca.phi_next\n",
    "reward_phi_pca = data_pca.phi.dot(data_pca.reward)\n",
    "\n",
    "n_pca = data_pca.phi.shape[-1]\n",
    "A_pca = phi_pca.dot(phi_gamma_phi_next_pca.T)/n_pca\n",
    "b_pca = reward_phi_pca/n_pca\n",
    "C_pca = phi_pca.dot(phi_pca.T)/n_pca"
   ],
   "outputs": [],
   "metadata": {}
  },
  {
   "cell_type": "code",
   "execution_count": 12,
   "source": [
    "d = C_pca.shape[0]\n",
    "\n",
    "rho = 1.0\n",
    "B_pca = rho*np.eye(C_pca.shape[0])\n",
    "\n",
    "proj_x = None\n",
    "proj_y = None\n",
    "\n",
    "x_0 = np.random.randn(d)\n",
    "y_0 = np.random.randn(d)\n",
    "\n",
    "prob = probs.QuadraticSeparableMinimaxProb(\n",
    "    A=-A_pca, B=B_pca, C=C_pca, b=None, c=-b_pca.squeeze(), \n",
    "    proj_x=proj_x, proj_y=proj_y)\n",
    "\n",
    "output_mp = algos.MirrorProx_optimize(\n",
    "  prob, K=1000, z_0=(x_0, y_0),\n",
    "  strongly_monotone=True,\n",
    "  log_freq=1, log_prefix='MP', print_freq=10000)\n",
    "\n",
    "output_mpbal = algos.MirrorProx_optimize(\n",
    "  prob, K=1000, z_0=(x_0, y_0),\n",
    "  strongly_monotone=True, balance=True,\n",
    "  log_freq=1, log_prefix='MP_Bal', print_freq=10000)\n",
    "\n",
    "kappa_rellip = prob.Ly/prob.mux + prob.Lxy/((prob.mux*prob.muy)**0.5) + prob.Ly/prob.muy\n",
    "output_mp_rellip = algos.RelLipMirrorProxSM_optimize(\n",
    "  prob, K=1000, z_0=(x_0, y_0),\n",
    "  log_freq=1, log_prefix='MP_RL', print_freq=10000)\n",
    "\n",
    "output_pd = algos.primalDualSeparable_optimize(\n",
    "  prob, K=1000, z_0=(x_0, y_0),\n",
    "  log_freq=1, log_prefix='PD', print_freq=10000)"
   ],
   "outputs": [
    {
     "output_type": "stream",
     "name": "stdout",
     "text": [
      "MPk=0,x_k=[0.98004803 0.40349677 0.10304746],y_k=[ 0.66611498 -1.20347668  0.34483675];gap=44,|grad|=15,func=42,dist_sq=3.9e+02;avg:gap=44,|grad|=15,func=42,dist_sq=3.9e+02;tgap=25,|grad|=11,func=23,dist_sq=3e+02;tavg:gap=25,|grad|=11,func=23,dist_sq=3e+02\n",
      "MP_Balk=0,x_k=[0.98004803 0.40349677 0.10304746],y_k=[ 0.66611498 -1.20347668  0.34483675];gap=44,|grad|=15,func=42,dist_sq=3.9e+02;avg:gap=44,|grad|=15,func=42,dist_sq=3.9e+02;tgap=44,|grad|=15,func=42,dist_sq=3.9e+02;tavg:gap=44,|grad|=15,func=42,dist_sq=3.9e+02\n",
      "MP_RLk=0,x_k=[0.98004803 0.40349677 0.10304746],y_k=[ 0.66611498 -1.20347668  0.34483675];gap=44,|grad|=15,func=42,dist_sq=3.9e+02;avg:gap=44,|grad|=15,func=42,dist_sq=3.9e+02;tgap=44,|grad|=15,func=42,dist_sq=3.9e+02;tavg:gap=44,|grad|=15,func=42,dist_sq=3.9e+02\n",
      "PDk=0,x_k=[0.98004803 0.40349677 0.10304746],y_k=[ 0.66611498 -1.20347668  0.34483675];gap=44,|grad|=15,func=42,dist_sq=3.9e+02;\n"
     ]
    }
   ],
   "metadata": {}
  },
  {
   "cell_type": "code",
   "execution_count": 23,
   "source": [
    "plt.semilogy(output_pd['k_list'], output_pd['gap'], '-', label='LPD')\n",
    "plt.semilogy(output_mp['k_list'], output_mp['gap'], '--', label='MP')\n",
    "plt.semilogy(output_mpbal['k_list'], output_mpbal['gap'], '-.', label='MP Bal.')\n",
    "plt.semilogy(output_mp_rellip['k_list'], output_mp_rellip['gap'], ':', label='MP RL')\n",
    "\n",
    "kappa_opt = (\n",
    "  ((prob.Lx-prob.mux)/prob.mux)**0.5 +\n",
    "  prob.Lxy/((prob.mux*prob.muy)**0.5) +\n",
    "  ((prob.Ly-prob.muy)/prob.muy)**0.5\n",
    ")\n",
    "kappa_mp = (\n",
    "  ((prob.Lx-prob.mux)/prob.mux) +\n",
    "  prob.Lxy/min(prob.mux,prob.muy) +\n",
    "  ((prob.Ly-prob.muy)/prob.muy)\n",
    ")\n",
    "kappa_rellip = (\n",
    "  ((prob.Lx-prob.mux)/prob.mux) +\n",
    "  prob.Lxy/((prob.mux*prob.muy)**0.5) +\n",
    "  ((prob.Ly-prob.muy)/prob.muy)\n",
    ")\n",
    "\n",
    "print(f'Lxy={prob.Lxy}, Lx={prob.Lx}, Ly={prob.Ly}, ' \n",
    "      f'mux={prob.mux}, muy={prob.muy}, ' \n",
    "      f'sqrt(mux*muy)={(prob.mux*prob.muy)**0.5}, '\n",
    "      f'kappa_opt={kappa_opt}, kappa_mp={kappa_mp}, kappa_rellip={kappa_rellip}')\n",
    "\n",
    "fig = matplotlib.pyplot.gcf()\n",
    "fig.set_size_inches(4, 3)\n",
    "\n",
    "plt.legend()\n",
    "timestamp = datetime.now().strftime(\"%Y%m%d-%H%M%S\")\n",
    "plotname = f'RLPolicyEval_d200_vs_k_{timestamp}'\n",
    "plt.savefig(f'{plotname}.pdf', bbox_inches='tight')\n",
    "plt.savefig(f'{plotname}.png', bbox_inches='tight')\n",
    "plt.show()\n",
    "plt.show()"
   ],
   "outputs": [
    {
     "output_type": "stream",
     "name": "stdout",
     "text": [
      "Lxy=0.10625686745634218, Lx=1.0, Ly=0.36920313359964896, mux=1.0, muy=1.9043777775180165e-05, sqrt(mux*muy)=0.004363917709487676, kappa_opt=163.58284546807644, kappa_mp=24965.685006987434, kappa_rellip=19410.423205488394\n"
     ]
    },
    {
     "output_type": "display_data",
     "data": {
      "image/png": "[encoded data removed]",
      "text/plain": [
       "<Figure size 288x216 with 1 Axes>"
      ]
     },
     "metadata": {
      "needs_background": "light"
     }
    }
   ],
   "metadata": {}
  },
  {
   "cell_type": "markdown",
   "source": [
    "# RL Policy Evaluation Bi-SC-C Problem (d=300, rho=1.0): primal-dual gap vs iteration (k)"
   ],
   "metadata": {}
  },
  {
   "cell_type": "code",
   "execution_count": 11,
   "source": [
    "d = 300\n",
    "\n",
    "rho = 1.0\n",
    "B = rho*np.eye(C.shape[0])\n",
    "\n",
    "D = 1000.0\n",
    "\n",
    "def proj(x):\n",
    "    if utils.l2_norm(x) < D:\n",
    "        return x\n",
    "    else:\n",
    "        return x/utils.l2_norm(x)\n",
    "\n",
    "proj_x = proj\n",
    "proj_y = proj\n",
    "\n",
    "x_0 = np.random.randn(d)\n",
    "y_0 = np.random.randn(d)\n",
    "\n",
    "prob = probs.QuadraticSeparableMinimaxProb(\n",
    "    A=-A, B=B, C=C, b=None, c=-b.squeeze(), \n",
    "    proj_x=proj_x, proj_y=proj_y)\n",
    "\n",
    "prob.muyy = prob.muy = 0.0\n",
    "output_pd = algos.primalDualSeparable_optimize(\n",
    "  prob, K=10000, z_0=(x_0, y_0),\n",
    "  log_freq=1, log_prefix='PD', print_freq=10000)\n",
    "\n",
    "output_mp = algos.MirrorProx_optimize(\n",
    "  prob, K=10000, z_0=(x_0, y_0),\n",
    "  log_freq=1, log_prefix='MP', print_freq=10000)"
   ],
   "outputs": [
    {
     "output_type": "stream",
     "name": "stderr",
     "text": [
      "/home/kiran/codes/minimax_opt/smooth_minimax_github_optimal_primal_dual_cameraready/minmax/algos/primal_dual.py:59: RuntimeWarning: divide by zero encountered in double_scalars\n",
      "  kappa_y = (-1+prob.Ly/prob.muy)\n"
     ]
    },
    {
     "output_type": "stream",
     "name": "stdout",
     "text": [
      "PDk=0,x_k=[-0.11003072  0.49081806  1.91159711],y_k=[-0.25433333  0.42501499  0.42585299];gap=62,|grad|=17,func=54;\n",
      "MPk=0,x_k=[-0.11003072  0.49081806  1.91159711],y_k=[-0.25433333  0.42501499  0.42585299];gap=62,|grad|=17,func=54;avg:gap=62,|grad|=17,func=54;tgap=18,|grad|=8.5,func=12;tavg:gap=18,|grad|=8.5,func=12\n"
     ]
    }
   ],
   "metadata": {}
  },
  {
   "cell_type": "code",
   "execution_count": 22,
   "source": [
    "plt.loglog(output_pd['k_list'], output_pd['gap'], '-', label='LPD')\n",
    "plt.loglog(output_mp['k_list'], output_mp['gap'], '--', label='MP')\n",
    " \n",
    "plt.loglog(output_mp['k_list'], output_pd['gap'][0]/(np.array(output_mp['k_list'])**2), '-.', label='1/k^2')\n",
    "plt.loglog(output_mp['k_list'], output_mp['gap'][0]/np.array(output_mp['k_list']), ':', label='1/k')\n",
    "\n",
    "fig = matplotlib.pyplot.gcf()\n",
    "fig.set_size_inches(4, 3)\n",
    "\n",
    "plt.legend()\n",
    "timestamp = datetime.now().strftime(\"%Y%m%d-%H%M%S\")\n",
    "plotname = f'RLPolicyEval_d300_vs_k_{timestamp}'\n",
    "plt.savefig(f'{plotname}.pdf', bbox_inches='tight')\n",
    "plt.savefig(f'{plotname}.png', bbox_inches='tight')\n",
    "plt.show()\n",
    "plt.show()"
   ],
   "outputs": [
    {
     "output_type": "display_data",
     "data": {
      "image/png": "[encoded data removed]",
      "text/plain": [
       "<Figure size 288x216 with 1 Axes>"
      ]
     },
     "metadata": {
      "needs_background": "light"
     }
    }
   ],
   "metadata": {}
  }
 ],
 "metadata": {
  "orig_nbformat": 4,
  "language_info": {
   "name": "python",
   "version": "3.6.13",
   "mimetype": "text/x-python",
   "codemirror_mode": {
    "name": "ipython",
    "version": 3
   },
   "pygments_lexer": "ipython3",
   "nbconvert_exporter": "python",
   "file_extension": ".py"
  },
  "kernelspec": {
   "name": "python3",
   "display_name": "Python 3.6.13 64-bit ('pyt36': conda)"
  },
  "interpreter": {
   "hash": "5ff2831922231392dd600f46a2b02e173cd7e56aa3c33fa923342cb849ac65dc"
  }
 },
 "nbformat": 4,
 "nbformat_minor": 2
}