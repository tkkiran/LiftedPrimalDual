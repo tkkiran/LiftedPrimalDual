{
 "cells": [
  {
   "cell_type": "code",
   "execution_count": 1,
   "source": [
    "from datetime import datetime\n",
    "import importlib\n",
    "\n",
    "import numpy as np\n",
    "import matplotlib\n",
    "import matplotlib.pyplot as plt\n",
    "\n",
    "from scipy.stats import ortho_group"
   ],
   "outputs": [],
   "metadata": {}
  },
  {
   "cell_type": "code",
   "execution_count": 2,
   "source": [
    "from minmax import algos, probs, utils\n",
    "importlib.reload(algos)\n",
    "importlib.reload(probs)\n",
    "importlib.reload(utils)\n",
    "\n",
    "%matplotlib inline"
   ],
   "outputs": [],
   "metadata": {}
  },
  {
   "cell_type": "markdown",
   "source": [
    "# Qudratic Bi-SC-SC Problem: primal-dual gap vs iteration (k)"
   ],
   "metadata": {}
  },
  {
   "cell_type": "code",
   "execution_count": 3,
   "source": [
    "d = 5\n",
    "eigvals = np.ones([d])*(2.0**np.arange(0,d, 1))\n",
    "\n",
    "A = ortho_group.rvs(dim=d).dot(np.diag(eigvals).dot(ortho_group.rvs(dim=d)))\n",
    "B = ortho_group.rvs(dim=d).dot(np.diag(eigvals**1).dot(ortho_group.rvs(dim=d)))\n",
    "B = B.T.dot(B)\n",
    "C = ortho_group.rvs(dim=d).dot(np.diag(eigvals**1).dot(ortho_group.rvs(dim=d)))\n",
    "C = C.T.dot(C)\n",
    "\n",
    "D = 10.0\n",
    "\n",
    "proj_x = None\n",
    "proj_y = None\n",
    "\n",
    "x_0 = np.random.randn(d)\n",
    "y_0 = np.random.randn(d)\n",
    "\n",
    "prob = probs.QuadraticSeparableMinimaxProb(\n",
    "    A=A, B=B, C=C, b=None, c=None, \n",
    "    proj_x=proj_x, proj_y=proj_y)\n",
    "\n",
    "K = 1000\n",
    "\n",
    "output_pd = algos.primalDualSeparable_optimize(\n",
    "  prob, K=K, z_0=(x_0, y_0), stepsize=None,\n",
    "  log_freq=1, log_prefix='PD', print_freq=10000)\n",
    "\n",
    "output_mp = algos.MirrorProx_optimize(\n",
    "  prob, K=K, z_0=(x_0, y_0),\n",
    "  strongly_monotone=True,\n",
    "  log_freq=1, log_prefix='MP', print_freq=10000)\n",
    "\n",
    "output_mpbal = algos.MirrorProx_optimize(\n",
    "  prob, K=K, z_0=(x_0, y_0),\n",
    "  strongly_monotone=True, balance=True,\n",
    "  log_freq=1, log_prefix='MP_Bal', print_freq=10000)\n",
    "\n",
    "kappa_rellip = prob.Ly/prob.mux + prob.Lxy/((prob.mux*prob.muy)**0.5) + prob.Ly/prob.muy\n",
    "output_mp_rellip = algos.RelLipMirrorProxSM_optimize(\n",
    "  prob, K=K, z_0=(x_0, y_0),\n",
    "  log_freq=1, log_prefix='MP_RL', print_freq=10000)"
   ],
   "outputs": [
    {
     "output_type": "stream",
     "name": "stdout",
     "text": [
      "PDk=0,x_k=[-0.36261752 -0.63387632 -1.56767652],y_k=[ 0.6845113   0.22351034 -0.46469553];gap=1.8e+02,|grad|=2.3e+02,func=5.6,dist_sq=8;\n",
      "MPk=0,x_k=[-0.36261752 -0.63387632 -1.56767652],y_k=[ 0.6845113   0.22351034 -0.46469553];gap=1.8e+02,|grad|=2.3e+02,func=5.6,dist_sq=8;avg:gap=1.8e+02,|grad|=2.3e+02,func=5.6,dist_sq=8;tgap=1.4e+02,|grad|=1.8e+02,func=6.3,dist_sq=7.5;tavg:gap=1.4e+02,|grad|=1.8e+02,func=6.3,dist_sq=7.5\n",
      "MP_Balk=0,x_k=[-0.36261752 -0.63387632 -1.56767652],y_k=[ 0.6845113   0.22351034 -0.46469553];gap=1.8e+02,|grad|=2.3e+02,func=5.6,dist_sq=8;avg:gap=1.8e+02,|grad|=2.3e+02,func=5.6,dist_sq=8;tgap=1.6e+02,|grad|=2.1e+02,func=6,dist_sq=7.7;tavg:gap=1.6e+02,|grad|=2.1e+02,func=6,dist_sq=7.7\n",
      "MP_RLk=0,x_k=[-0.36261752 -0.63387632 -1.56767652],y_k=[ 0.6845113   0.22351034 -0.46469553];gap=1.8e+02,|grad|=2.3e+02,func=5.6,dist_sq=8;avg:gap=1.8e+02,|grad|=2.3e+02,func=5.6,dist_sq=8;tgap=1.1e+02,|grad|=1.3e+02,func=6.4,dist_sq=7.1;tavg:gap=1.1e+02,|grad|=1.3e+02,func=6.4,dist_sq=7.1\n"
     ]
    }
   ],
   "metadata": {}
  },
  {
   "cell_type": "code",
   "execution_count": 145,
   "source": [
    "plt.semilogy(output_pd['k_list'], output_pd['gap'], '-', label='LPD')\n",
    "plt.semilogy(output_mp['k_list'], output_mp['gap'], '--', label='MP')\n",
    "plt.semilogy(output_mpbal['k_list'], output_mpbal['gap'], '-.', label='MP Balance')\n",
    "plt.semilogy(output_mp_rellip['k_list'], output_mp_rellip['gap'], ':', label='MP Rel. Lip.')\n",
    "\n",
    "kappa_opt = (\n",
    "  ((prob.Lx-prob.mux)/prob.mux)**0.5 +\n",
    "  prob.Lxy/((prob.mux*prob.muy)**0.5) +\n",
    "  ((prob.Ly-prob.muy)/prob.muy)**0.5\n",
    ")\n",
    "kappa_mp = (\n",
    "  ((prob.Lx-prob.mux)/prob.mux) +\n",
    "  prob.Lxy/min(prob.mux,prob.muy) +\n",
    "  ((prob.Ly-prob.muy)/prob.muy)\n",
    ")\n",
    "kappa_rellip = (\n",
    "  ((prob.Lx-prob.mux)/prob.mux) +\n",
    "  prob.Lxy/((prob.mux*prob.muy)**0.5) +\n",
    "  ((prob.Ly-prob.muy)/prob.muy)\n",
    ")\n",
    "\n",
    "print(f'Lxy={prob.Lxy}, Lx={prob.Lx}, Ly={prob.Ly}, ' \n",
    "      f'mux={prob.mux}, muy={prob.muy}, ' \n",
    "      f'sqrt(mux*muy)={(prob.mux*prob.muy)**0.5}, '\n",
    "      f'kappa_opt={kappa_opt}, kappa_mp={kappa_mp}, kappa_rellip={kappa_rellip}')\n",
    "\n",
    "fig = matplotlib.pyplot.gcf()\n",
    "fig.set_size_inches(4, 3)\n",
    "\n",
    "plt.legend()\n",
    "timestamp = datetime.now().strftime(\"%Y%m%d-%H%M%S\")\n",
    "plotname = f'synthetic_vs_k_{timestamp}'\n",
    "plt.savefig(f'{plotname}.pdf', bbox_inches='tight')\n",
    "plt.savefig(f'{plotname}.png', bbox_inches='tight')\n",
    "plt.show()\n",
    "plt.close()"
   ],
   "outputs": [
    {
     "output_type": "stream",
     "name": "stdout",
     "text": [
      "Lxy=16.000000000000004, Lx=256.0, Ly=255.99999999999994, mux=0.999999999999981, muy=0.9999999999999879, sqrt(mux*muy)=0.9999999999999845, kappa_opt=47.937438845343124, kappa_mp=526.0000000000082, kappa_rellip=526.0000000000082\n"
     ]
    },
    {
     "output_type": "display_data",
     "data": {
      "image/png": "[encoded data removed]",
      "text/plain": [
       "<Figure size 288x216 with 1 Axes>"
      ]
     },
     "metadata": {
      "needs_background": "light"
     }
    }
   ],
   "metadata": {}
  },
  {
   "cell_type": "markdown",
   "source": [
    "# Qudratic Bi-SC-SC Problem: varying condition number (\\kappa)"
   ],
   "metadata": {}
  },
  {
   "cell_type": "code",
   "execution_count": 5,
   "source": [
    "d = 5\n",
    "\n",
    "metric_key = 'dist_sq'\n",
    "metric_lists = {\n",
    "  'kappa_x': [],\n",
    "  'pd': [],\n",
    "  'mp': [],\n",
    "  'mp_bal': [],\n",
    "  'mp_rel': [],\n",
    "  'initial': [],\n",
    "}\n",
    "\n",
    "for _ in range(5):\n",
    "  for key in metric_lists:\n",
    "    metric_lists[key].append([])\n",
    "\n",
    "  for ratio in np.arange(1.25, 2.25+0.25, 0.25):\n",
    "    eigvals = np.ones([d])*(ratio**np.arange(0,d, 1))\n",
    "\n",
    "    A = ortho_group.rvs(dim=d).dot(np.diag(eigvals).dot(ortho_group.rvs(dim=d)))\n",
    "    B = ortho_group.rvs(dim=d).dot(np.diag(eigvals**1).dot(ortho_group.rvs(dim=d)))\n",
    "    B = B.T.dot(B)\n",
    "    C = ortho_group.rvs(dim=d).dot(np.diag(eigvals**1).dot(ortho_group.rvs(dim=d)))\n",
    "    C = C.T.dot(C)\n",
    "\n",
    "    D = 10.0\n",
    "\n",
    "    proj_x = None\n",
    "    proj_y = None\n",
    "\n",
    "    x_0 = np.random.randn(d)\n",
    "    y_0 = np.random.randn(d)\n",
    "\n",
    "    prob = probs.QuadraticSeparableMinimaxProb(\n",
    "        A=A, B=B, C=C, b=None, c=None, \n",
    "        proj_x=proj_x, proj_y=proj_y)\n",
    "    metric_lists['kappa_x'][-1].append(prob.Lx/prob.mux)\n",
    "\n",
    "    K = 1000\n",
    "\n",
    "    output_pd = algos.primalDualSeparable_optimize(\n",
    "      prob, K=K, z_0=(x_0, y_0), stepsize=None,\n",
    "      log_freq=1, log_prefix='PD', print_freq=10000)\n",
    "    metric_lists['initial'][-1].append(output_pd[metric_key][0])\n",
    "    metric_lists['pd'][-1].append(output_pd[metric_key][-1])\n",
    "\n",
    "    output_mp = algos.MirrorProx_optimize(\n",
    "      prob, K=K, z_0=(x_0, y_0),\n",
    "      strongly_monotone=True,\n",
    "      log_freq=1, log_prefix='MP', print_freq=10000)\n",
    "    metric_lists['mp'][-1].append(output_mp[metric_key][-1])\n",
    "\n",
    "    output_mpbal = algos.MirrorProx_optimize(\n",
    "      prob, K=K, z_0=(x_0, y_0),\n",
    "      strongly_monotone=True, balance=True,\n",
    "      log_freq=1, log_prefix='MP_Bal', print_freq=10000)\n",
    "    metric_lists['mp_bal'][-1].append(output_mpbal[metric_key][-1])\n",
    "\n",
    "\n",
    "    kappa_rellip = prob.Ly/prob.mux + prob.Lxy/((prob.mux*prob.muy)**0.5) + prob.Ly/prob.muy\n",
    "    output_mp_rellip = algos.RelLipMirrorProxSM_optimize(\n",
    "      prob, K=K, z_0=(x_0, y_0),\n",
    "      log_freq=1, log_prefix='MP_RL', print_freq=10000)\n",
    "    metric_lists['mp_rel'][-1].append(output_mp_rellip[metric_key][-1])\n",
    "\n",
    "for key in metric_lists:\n",
    "  metric_lists[key] = np.array(metric_lists[key])\n",
    "metric_lists['kappa_x'] = metric_lists['kappa_x'].mean(axis=0)"
   ],
   "outputs": [
    {
     "output_type": "stream",
     "name": "stdout",
     "text": [
      "PDk=0,x_k=[ 0.17460651 -1.57200347  1.49531162],y_k=[ 0.50678716  1.58179085 -0.07796468];gap=21,|grad|=16,func=-11,dist_sq=10;\n",
      "MPk=0,x_k=[ 0.17460651 -1.57200347  1.49531162],y_k=[ 0.50678716  1.58179085 -0.07796468];gap=21,|grad|=16,func=-11,dist_sq=10;avg:gap=21,|grad|=16,func=-11,dist_sq=10;tgap=13,|grad|=13,func=-5.8,dist_sq=6.8;tavg:gap=13,|grad|=13,func=-5.8,dist_sq=6.8\n",
      "MP_Balk=0,x_k=[ 0.17460651 -1.57200347  1.49531162],y_k=[ 0.50678716  1.58179085 -0.07796468];gap=21,|grad|=16,func=-11,dist_sq=10;avg:gap=21,|grad|=16,func=-11,dist_sq=10;tgap=18,|grad|=15,func=-8.5,dist_sq=8.6;tavg:gap=18,|grad|=15,func=-8.5,dist_sq=8.6\n",
      "MP_RLk=0,x_k=[ 0.17460651 -1.57200347  1.49531162],y_k=[ 0.50678716  1.58179085 -0.07796468];gap=21,|grad|=16,func=-11,dist_sq=10;avg:gap=21,|grad|=16,func=-11,dist_sq=10;tgap=8.9,|grad|=10,func=-3.3,dist_sq=5.1;tavg:gap=8.9,|grad|=10,func=-3.3,dist_sq=5.1\n",
      "PDk=0,x_k=[-0.43814218  0.70946208  0.67665046],y_k=[0.5330863  0.01968297 0.44906129];gap= 9,|grad|=18,func=1.1,dist_sq=2;\n",
      "MPk=0,x_k=[-0.43814218  0.70946208  0.67665046],y_k=[0.5330863  0.01968297 0.44906129];gap= 9,|grad|=18,func=1.1,dist_sq=2;avg:gap= 9,|grad|=18,func=1.1,dist_sq=2;tgap=6.8,|grad|=16,func=1.3,dist_sq=1.6;tavg:gap=6.8,|grad|=16,func=1.3,dist_sq=1.6\n",
      "MP_Balk=0,x_k=[-0.43814218  0.70946208  0.67665046],y_k=[0.5330863  0.01968297 0.44906129];gap= 9,|grad|=18,func=1.1,dist_sq=2;avg:gap= 9,|grad|=18,func=1.1,dist_sq=2;tgap=7.9,|grad|=17,func=1.2,dist_sq=1.9;tavg:gap=7.9,|grad|=17,func=1.2,dist_sq=1.9\n",
      "MP_RLk=0,x_k=[-0.43814218  0.70946208  0.67665046],y_k=[0.5330863  0.01968297 0.44906129];gap= 9,|grad|=18,func=1.1,dist_sq=2;avg:gap= 9,|grad|=18,func=1.1,dist_sq=2;tgap=5.3,|grad|=14,func=1.3,dist_sq=1.4;tavg:gap=5.3,|grad|=14,func=1.3,dist_sq=1.4\n",
      "PDk=0,x_k=[-0.87776626 -0.38612652  0.07822937],y_k=[0.62376091 0.69901536 1.86810052];gap=61,|grad|=85,func=7.8,dist_sq=6.3;\n",
      "MPk=0,x_k=[-0.87776626 -0.38612652  0.07822937],y_k=[0.62376091 0.69901536 1.86810052];gap=61,|grad|=85,func=7.8,dist_sq=6.3;avg:gap=61,|grad|=85,func=7.8,dist_sq=6.3;tgap=50,|grad|=66,func=2.1,dist_sq=5.8;tavg:gap=50,|grad|=66,func=2.1,dist_sq=5.8\n",
      "MP_Balk=0,x_k=[-0.87776626 -0.38612652  0.07822937],y_k=[0.62376091 0.69901536 1.86810052];gap=61,|grad|=85,func=7.8,dist_sq=6.3;avg:gap=61,|grad|=85,func=7.8,dist_sq=6.3;tgap=55,|grad|=76,func=4.9,dist_sq=6.1;tavg:gap=55,|grad|=76,func=4.9,dist_sq=6.1\n",
      "MP_RLk=0,x_k=[-0.87776626 -0.38612652  0.07822937],y_k=[0.62376091 0.69901536 1.86810052];gap=61,|grad|=85,func=7.8,dist_sq=6.3;avg:gap=61,|grad|=85,func=7.8,dist_sq=6.3;tgap=42,|grad|=50,func=-1.8,dist_sq=5.5;tavg:gap=42,|grad|=50,func=-1.8,dist_sq=5.5\n",
      "PDk=0,x_k=[-0.97458323  0.22071211  1.82674037],y_k=[-0.78982326  0.60065001 -0.28351089];gap=1.1e+02,|grad|=2.2e+02,func=31,dist_sq=7.2;\n",
      "MPk=0,x_k=[-0.97458323  0.22071211  1.82674037],y_k=[-0.78982326  0.60065001 -0.28351089];gap=1.1e+02,|grad|=2.2e+02,func=31,dist_sq=7.2;avg:gap=1.1e+02,|grad|=2.2e+02,func=31,dist_sq=7.2;tgap=77,|grad|=1.7e+02,func=15,dist_sq=6.8;tavg:gap=77,|grad|=1.7e+02,func=15,dist_sq=6.8\n",
      "MP_Balk=0,x_k=[-0.97458323  0.22071211  1.82674037],y_k=[-0.78982326  0.60065001 -0.28351089];gap=1.1e+02,|grad|=2.2e+02,func=31,dist_sq=7.2;avg:gap=1.1e+02,|grad|=2.2e+02,func=31,dist_sq=7.2;tgap=91,|grad|=2e+02,func=23,dist_sq=7;tavg:gap=91,|grad|=2e+02,func=23,dist_sq=7\n",
      "MP_RLk=0,x_k=[-0.97458323  0.22071211  1.82674037],y_k=[-0.78982326  0.60065001 -0.28351089];gap=1.1e+02,|grad|=2.2e+02,func=31,dist_sq=7.2;avg:gap=1.1e+02,|grad|=2.2e+02,func=31,dist_sq=7.2;tgap=56,|grad|=1.2e+02,func=5,dist_sq=6.5;tavg:gap=56,|grad|=1.2e+02,func=5,dist_sq=6.5\n",
      "PDk=0,x_k=[-0.63644225 -0.38073206 -0.25824982],y_k=[ 1.23569737  0.11008925 -0.3372767 ];gap=1.4e+03,|grad|=7.5e+02,func=99,dist_sq=9.6;\n",
      "MPk=0,x_k=[-0.63644225 -0.38073206 -0.25824982],y_k=[ 1.23569737  0.11008925 -0.3372767 ];gap=1.4e+03,|grad|=7.5e+02,func=99,dist_sq=9.6;avg:gap=1.4e+03,|grad|=7.5e+02,func=99,dist_sq=9.6;tgap=1.3e+03,|grad|=5.7e+02,func=30,dist_sq=8.9;tavg:gap=1.3e+03,|grad|=5.7e+02,func=30,dist_sq=8.9\n",
      "MP_Balk=0,x_k=[-0.63644225 -0.38073206 -0.25824982],y_k=[ 1.23569737  0.11008925 -0.3372767 ];gap=1.4e+03,|grad|=7.5e+02,func=99,dist_sq=9.6;avg:gap=1.4e+03,|grad|=7.5e+02,func=99,dist_sq=9.6;tgap=1.3e+03,|grad|=6.6e+02,func=63,dist_sq=9.2;tavg:gap=1.3e+03,|grad|=6.6e+02,func=63,dist_sq=9.2\n",
      "MP_RLk=0,x_k=[-0.63644225 -0.38073206 -0.25824982],y_k=[ 1.23569737  0.11008925 -0.3372767 ];gap=1.4e+03,|grad|=7.5e+02,func=99,dist_sq=9.6;avg:gap=1.4e+03,|grad|=7.5e+02,func=99,dist_sq=9.6;tgap=1.2e+03,|grad|=3.9e+02,func=-17,dist_sq=8.3;tavg:gap=1.2e+03,|grad|=3.9e+02,func=-17,dist_sq=8.3\n",
      "PDk=0,x_k=[-0.10134954 -0.57149247 -1.07304238],y_k=[ 1.06349122  0.75268899 -0.26975609];gap=17,|grad|=11,func=0.32,dist_sq=11;\n",
      "MPk=0,x_k=[-0.10134954 -0.57149247 -1.07304238],y_k=[ 1.06349122  0.75268899 -0.26975609];gap=17,|grad|=11,func=0.32,dist_sq=11;avg:gap=17,|grad|=11,func=0.32,dist_sq=11;tgap=13,|grad|=9.3,func=0.64,dist_sq=9;tavg:gap=13,|grad|=9.3,func=0.64,dist_sq=9\n",
      "MP_Balk=0,x_k=[-0.10134954 -0.57149247 -1.07304238],y_k=[ 1.06349122  0.75268899 -0.26975609];gap=17,|grad|=11,func=0.32,dist_sq=11;avg:gap=17,|grad|=11,func=0.32,dist_sq=11;tgap=15,|grad|=10,func=0.48,dist_sq=10;tavg:gap=15,|grad|=10,func=0.48,dist_sq=10\n",
      "MP_RLk=0,x_k=[-0.10134954 -0.57149247 -1.07304238],y_k=[ 1.06349122  0.75268899 -0.26975609];gap=17,|grad|=11,func=0.32,dist_sq=11;avg:gap=17,|grad|=11,func=0.32,dist_sq=11;tgap=11,|grad|=8.3,func=0.74,dist_sq=7.6;tavg:gap=11,|grad|=8.3,func=0.74,dist_sq=7.6\n",
      "PDk=0,x_k=[-0.8309098  -0.36613984  2.09562003],y_k=[ 0.42491691  1.10403725 -0.2031138 ];gap=33,|grad|=29,func=11,dist_sq=11;\n",
      "MPk=0,x_k=[-0.8309098  -0.36613984  2.09562003],y_k=[ 0.42491691  1.10403725 -0.2031138 ];gap=33,|grad|=29,func=11,dist_sq=11;avg:gap=33,|grad|=29,func=11,dist_sq=11;tgap=29,|grad|=23,func=8.7,dist_sq=11;tavg:gap=29,|grad|=23,func=8.7,dist_sq=11\n",
      "MP_Balk=0,x_k=[-0.8309098  -0.36613984  2.09562003],y_k=[ 0.42491691  1.10403725 -0.2031138 ];gap=33,|grad|=29,func=11,dist_sq=11;avg:gap=33,|grad|=29,func=11,dist_sq=11;tgap=31,|grad|=26,func=9.8,dist_sq=11;tavg:gap=31,|grad|=26,func=9.8,dist_sq=11\n",
      "MP_RLk=0,x_k=[-0.8309098  -0.36613984  2.09562003],y_k=[ 0.42491691  1.10403725 -0.2031138 ];gap=33,|grad|=29,func=11,dist_sq=11;avg:gap=33,|grad|=29,func=11,dist_sq=11;tgap=27,|grad|=19,func=7.2,dist_sq=10;tavg:gap=27,|grad|=19,func=7.2,dist_sq=10\n",
      "PDk=0,x_k=[ 0.85854295  1.10022508 -0.1532652 ],y_k=[-0.57553104 -0.13061011  0.29845339];gap=41,|grad|=59,func=-7.9,dist_sq=5.7;\n",
      "MPk=0,x_k=[ 0.85854295  1.10022508 -0.1532652 ],y_k=[-0.57553104 -0.13061011  0.29845339];gap=41,|grad|=59,func=-7.9,dist_sq=5.7;avg:gap=41,|grad|=59,func=-7.9,dist_sq=5.7;tgap=36,|grad|=48,func=-6.4,dist_sq=5.3;tavg:gap=36,|grad|=48,func=-6.4,dist_sq=5.3\n",
      "MP_Balk=0,x_k=[ 0.85854295  1.10022508 -0.1532652 ],y_k=[-0.57553104 -0.13061011  0.29845339];gap=41,|grad|=59,func=-7.9,dist_sq=5.7;avg:gap=41,|grad|=59,func=-7.9,dist_sq=5.7;tgap=38,|grad|=54,func=-7.2,dist_sq=5.5;tavg:gap=38,|grad|=54,func=-7.2,dist_sq=5.5\n",
      "MP_RLk=0,x_k=[ 0.85854295  1.10022508 -0.1532652 ],y_k=[-0.57553104 -0.13061011  0.29845339];gap=41,|grad|=59,func=-7.9,dist_sq=5.7;avg:gap=41,|grad|=59,func=-7.9,dist_sq=5.7;tgap=32,|grad|=39,func=-5.1,dist_sq=4.9;tavg:gap=32,|grad|=39,func=-5.1,dist_sq=4.9\n",
      "PDk=0,x_k=[0.27745143 0.21159227 2.76540035],y_k=[ 0.61433281  0.62079551 -0.34298007];gap=1.7e+02,|grad|=2.1e+02,func=-90,dist_sq=14;\n",
      "MPk=0,x_k=[0.27745143 0.21159227 2.76540035],y_k=[ 0.61433281  0.62079551 -0.34298007];gap=1.7e+02,|grad|=2.1e+02,func=-90,dist_sq=14;avg:gap=1.7e+02,|grad|=2.1e+02,func=-90,dist_sq=14;tgap=1.1e+02,|grad|=1.6e+02,func=-52,dist_sq=13;tavg:gap=1.1e+02,|grad|=1.6e+02,func=-52,dist_sq=13\n",
      "MP_Balk=0,x_k=[0.27745143 0.21159227 2.76540035],y_k=[ 0.61433281  0.62079551 -0.34298007];gap=1.7e+02,|grad|=2.1e+02,func=-90,dist_sq=14;avg:gap=1.7e+02,|grad|=2.1e+02,func=-90,dist_sq=14;tgap=1.4e+02,|grad|=1.9e+02,func=-70,dist_sq=14;tavg:gap=1.4e+02,|grad|=1.9e+02,func=-70,dist_sq=14\n",
      "MP_RLk=0,x_k=[0.27745143 0.21159227 2.76540035],y_k=[ 0.61433281  0.62079551 -0.34298007];gap=1.7e+02,|grad|=2.1e+02,func=-90,dist_sq=14;avg:gap=1.7e+02,|grad|=2.1e+02,func=-90,dist_sq=14;tgap=78,|grad|=1.2e+02,func=-25,dist_sq=13;tavg:gap=78,|grad|=1.2e+02,func=-25,dist_sq=13\n",
      "PDk=0,x_k=[ 0.60700295 -0.32976514 -0.30463454],y_k=[ 1.0959116  -0.24528634  0.6311394 ];gap=1.1e+03,|grad|=1.2e+03,func=-2.7e+02,dist_sq=6.9;\n",
      "MPk=0,x_k=[ 0.60700295 -0.32976514 -0.30463454],y_k=[ 1.0959116  -0.24528634  0.6311394 ];gap=1.1e+03,|grad|=1.2e+03,func=-2.7e+02,dist_sq=6.9;avg:gap=1.1e+03,|grad|=1.2e+03,func=-2.7e+02,dist_sq=6.9;tgap=6.8e+02,|grad|=8.7e+02,func=-1.6e+02,dist_sq=5.5;tavg:gap=6.8e+02,|grad|=8.7e+02,func=-1.6e+02,dist_sq=5.5\n",
      "MP_Balk=0,x_k=[ 0.60700295 -0.32976514 -0.30463454],y_k=[ 1.0959116  -0.24528634  0.6311394 ];gap=1.1e+03,|grad|=1.2e+03,func=-2.7e+02,dist_sq=6.9;avg:gap=1.1e+03,|grad|=1.2e+03,func=-2.7e+02,dist_sq=6.9;tgap=8.7e+02,|grad|=1e+03,func=-2.1e+02,dist_sq=6.1;tavg:gap=8.7e+02,|grad|=1e+03,func=-2.1e+02,dist_sq=6.1\n",
      "MP_RLk=0,x_k=[ 0.60700295 -0.32976514 -0.30463454],y_k=[ 1.0959116  -0.24528634  0.6311394 ];gap=1.1e+03,|grad|=1.2e+03,func=-2.7e+02,dist_sq=6.9;avg:gap=1.1e+03,|grad|=1.2e+03,func=-2.7e+02,dist_sq=6.9;tgap=3.8e+02,|grad|=5.9e+02,func=-84,dist_sq=4.5;tavg:gap=3.8e+02,|grad|=5.9e+02,func=-84,dist_sq=4.5\n",
      "PDk=0,x_k=[-0.9650605  -0.33843998 -0.53580102],y_k=[0.37748843 1.39156532 0.55914444];gap=20,|grad|=12,func=-4.1,dist_sq=12;\n",
      "MPk=0,x_k=[-0.9650605  -0.33843998 -0.53580102],y_k=[0.37748843 1.39156532 0.55914444];gap=20,|grad|=12,func=-4.1,dist_sq=12;avg:gap=20,|grad|=12,func=-4.1,dist_sq=12;tgap=16,|grad|=10,func=-1.4,dist_sq=10;tavg:gap=16,|grad|=10,func=-1.4,dist_sq=10\n",
      "MP_Balk=0,x_k=[-0.9650605  -0.33843998 -0.53580102],y_k=[0.37748843 1.39156532 0.55914444];gap=20,|grad|=12,func=-4.1,dist_sq=12;avg:gap=20,|grad|=12,func=-4.1,dist_sq=12;tgap=18,|grad|=11,func=-2.9,dist_sq=11;tavg:gap=18,|grad|=11,func=-2.9,dist_sq=11\n",
      "MP_RLk=0,x_k=[-0.9650605  -0.33843998 -0.53580102],y_k=[0.37748843 1.39156532 0.55914444];gap=20,|grad|=12,func=-4.1,dist_sq=12;avg:gap=20,|grad|=12,func=-4.1,dist_sq=12;tgap=14,|grad|= 9,func=-0.0071,dist_sq=8.8;tavg:gap=14,|grad|= 9,func=-0.0071,dist_sq=8.8\n",
      "PDk=0,x_k=[0.55763309 0.75206496 0.58029158],y_k=[ 1.01261035 -0.35166686 -0.06382148];gap=18,|grad|=23,func=4.6,dist_sq=5.6;\n",
      "MPk=0,x_k=[0.55763309 0.75206496 0.58029158],y_k=[ 1.01261035 -0.35166686 -0.06382148];gap=18,|grad|=23,func=4.6,dist_sq=5.6;avg:gap=18,|grad|=23,func=4.6,dist_sq=5.6;tgap=15,|grad|=18,func=2.8,dist_sq=5.1;tavg:gap=15,|grad|=18,func=2.8,dist_sq=5.1\n",
      "MP_Balk=0,x_k=[0.55763309 0.75206496 0.58029158],y_k=[ 1.01261035 -0.35166686 -0.06382148];gap=18,|grad|=23,func=4.6,dist_sq=5.6;avg:gap=18,|grad|=23,func=4.6,dist_sq=5.6;tgap=17,|grad|=21,func=3.8,dist_sq=5.3;tavg:gap=17,|grad|=21,func=3.8,dist_sq=5.3\n",
      "MP_RLk=0,x_k=[0.55763309 0.75206496 0.58029158],y_k=[ 1.01261035 -0.35166686 -0.06382148];gap=18,|grad|=23,func=4.6,dist_sq=5.6;avg:gap=18,|grad|=23,func=4.6,dist_sq=5.6;tgap=13,|grad|=15,func=1.5,dist_sq=4.7;tavg:gap=13,|grad|=15,func=1.5,dist_sq=4.7\n",
      "PDk=0,x_k=[0.92808842 0.24397235 1.49699464],y_k=[ 1.1708933   0.27899156 -1.08472588];gap=1.3e+02,|grad|=1.2e+02,func=-40,dist_sq=8;\n",
      "MPk=0,x_k=[0.92808842 0.24397235 1.49699464],y_k=[ 1.1708933   0.27899156 -1.08472588];gap=1.3e+02,|grad|=1.2e+02,func=-40,dist_sq=8;avg:gap=1.3e+02,|grad|=1.2e+02,func=-40,dist_sq=8;tgap=1e+02,|grad|=91,func=-22,dist_sq=6.9;tavg:gap=1e+02,|grad|=91,func=-22,dist_sq=6.9\n",
      "MP_Balk=0,x_k=[0.92808842 0.24397235 1.49699464],y_k=[ 1.1708933   0.27899156 -1.08472588];gap=1.3e+02,|grad|=1.2e+02,func=-40,dist_sq=8;avg:gap=1.3e+02,|grad|=1.2e+02,func=-40,dist_sq=8;tgap=1.2e+02,|grad|=1e+02,func=-31,dist_sq=7.5;tavg:gap=1.2e+02,|grad|=1e+02,func=-31,dist_sq=7.5\n",
      "MP_RLk=0,x_k=[0.92808842 0.24397235 1.49699464],y_k=[ 1.1708933   0.27899156 -1.08472588];gap=1.3e+02,|grad|=1.2e+02,func=-40,dist_sq=8;avg:gap=1.3e+02,|grad|=1.2e+02,func=-40,dist_sq=8;tgap=84,|grad|=68,func=-9,dist_sq=6.2;tavg:gap=84,|grad|=68,func=-9,dist_sq=6.2\n",
      "PDk=0,x_k=[-1.63333163 -0.06483633  0.3741056 ],y_k=[-0.33029999  1.06108571 -0.38148809];gap=3.2e+02,|grad|=4.4e+02,func=-1.5e+02,dist_sq=6.4;\n",
      "MPk=0,x_k=[-1.63333163 -0.06483633  0.3741056 ],y_k=[-0.33029999  1.06108571 -0.38148809];gap=3.2e+02,|grad|=4.4e+02,func=-1.5e+02,dist_sq=6.4;avg:gap=3.2e+02,|grad|=4.4e+02,func=-1.5e+02,dist_sq=6.4;tgap=1.9e+02,|grad|=3.3e+02,func=-83,dist_sq=5.1;tavg:gap=1.9e+02,|grad|=3.3e+02,func=-83,dist_sq=5.1\n",
      "MP_Balk=0,x_k=[-1.63333163 -0.06483633  0.3741056 ],y_k=[-0.33029999  1.06108571 -0.38148809];gap=3.2e+02,|grad|=4.4e+02,func=-1.5e+02,dist_sq=6.4;avg:gap=3.2e+02,|grad|=4.4e+02,func=-1.5e+02,dist_sq=6.4;tgap=2.6e+02,|grad|=3.9e+02,func=-1.2e+02,dist_sq=5.8;tavg:gap=2.6e+02,|grad|=3.9e+02,func=-1.2e+02,dist_sq=5.8\n",
      "MP_RLk=0,x_k=[-1.63333163 -0.06483633  0.3741056 ],y_k=[-0.33029999  1.06108571 -0.38148809];gap=3.2e+02,|grad|=4.4e+02,func=-1.5e+02,dist_sq=6.4;avg:gap=3.2e+02,|grad|=4.4e+02,func=-1.5e+02,dist_sq=6.4;tgap=1e+02,|grad|=2.3e+02,func=-38,dist_sq=4.2;tavg:gap=1e+02,|grad|=2.3e+02,func=-38,dist_sq=4.2\n",
      "PDk=0,x_k=[-1.14271495  2.4929257  -1.00670626],y_k=[-0.44409293  0.48375571 -0.6487668 ];gap=1e+03,|grad|=9.1e+02,func=-3.3e+02,dist_sq=14;\n",
      "MPk=0,x_k=[-1.14271495  2.4929257  -1.00670626],y_k=[-0.44409293  0.48375571 -0.6487668 ];gap=1e+03,|grad|=9.1e+02,func=-3.3e+02,dist_sq=14;avg:gap=1e+03,|grad|=9.1e+02,func=-3.3e+02,dist_sq=14;tgap=7.4e+02,|grad|=7.2e+02,func=-1.3e+02,dist_sq=13;tavg:gap=7.4e+02,|grad|=7.2e+02,func=-1.3e+02,dist_sq=13\n",
      "MP_Balk=0,x_k=[-1.14271495  2.4929257  -1.00670626],y_k=[-0.44409293  0.48375571 -0.6487668 ];gap=1e+03,|grad|=9.1e+02,func=-3.3e+02,dist_sq=14;avg:gap=1e+03,|grad|=9.1e+02,func=-3.3e+02,dist_sq=14;tgap=8.6e+02,|grad|=8.1e+02,func=-2.3e+02,dist_sq=13;tavg:gap=8.6e+02,|grad|=8.1e+02,func=-2.3e+02,dist_sq=13\n",
      "MP_RLk=0,x_k=[-1.14271495  2.4929257  -1.00670626],y_k=[-0.44409293  0.48375571 -0.6487668 ];gap=1e+03,|grad|=9.1e+02,func=-3.3e+02,dist_sq=14;avg:gap=1e+03,|grad|=9.1e+02,func=-3.3e+02,dist_sq=14;tgap=5.5e+02,|grad|=5.5e+02,func=-2.8,dist_sq=11;tavg:gap=5.5e+02,|grad|=5.5e+02,func=-2.8,dist_sq=11\n",
      "PDk=0,x_k=[-1.00593687 -0.15931023 -1.08906281],y_k=[-0.61466687  0.63365726  1.66056783];gap=20,|grad|=10,func=-1.1,dist_sq=11;\n",
      "MPk=0,x_k=[-1.00593687 -0.15931023 -1.08906281],y_k=[-0.61466687  0.63365726  1.66056783];gap=20,|grad|=10,func=-1.1,dist_sq=11;avg:gap=20,|grad|=10,func=-1.1,dist_sq=11;tgap=17,|grad|=8.8,func=-0.2,dist_sq=9.7;tavg:gap=17,|grad|=8.8,func=-0.2,dist_sq=9.7\n",
      "MP_Balk=0,x_k=[-1.00593687 -0.15931023 -1.08906281],y_k=[-0.61466687  0.63365726  1.66056783];gap=20,|grad|=10,func=-1.1,dist_sq=11;avg:gap=20,|grad|=10,func=-1.1,dist_sq=11;tgap=19,|grad|=9.6,func=-0.68,dist_sq=11;tavg:gap=19,|grad|=9.6,func=-0.68,dist_sq=11\n",
      "MP_RLk=0,x_k=[-1.00593687 -0.15931023 -1.08906281],y_k=[-0.61466687  0.63365726  1.66056783];gap=20,|grad|=10,func=-1.1,dist_sq=11;avg:gap=20,|grad|=10,func=-1.1,dist_sq=11;tgap=15,|grad|=7.9,func=0.19,dist_sq=8.8;tavg:gap=15,|grad|=7.9,func=0.19,dist_sq=8.8\n",
      "PDk=0,x_k=[0.11765535 0.43405659 1.11933056],y_k=[ 0.90543283  0.54029976 -1.75614871];gap=58,|grad|=45,func=-27,dist_sq=7.1;\n",
      "MPk=0,x_k=[0.11765535 0.43405659 1.11933056],y_k=[ 0.90543283  0.54029976 -1.75614871];gap=58,|grad|=45,func=-27,dist_sq=7.1;avg:gap=58,|grad|=45,func=-27,dist_sq=7.1;tgap=39,|grad|=34,func=-15,dist_sq=5.7;tavg:gap=39,|grad|=34,func=-15,dist_sq=5.7\n",
      "MP_Balk=0,x_k=[0.11765535 0.43405659 1.11933056],y_k=[ 0.90543283  0.54029976 -1.75614871];gap=58,|grad|=45,func=-27,dist_sq=7.1;avg:gap=58,|grad|=45,func=-27,dist_sq=7.1;tgap=49,|grad|=40,func=-21,dist_sq=6.4;tavg:gap=49,|grad|=40,func=-21,dist_sq=6.4\n",
      "MP_RLk=0,x_k=[0.11765535 0.43405659 1.11933056],y_k=[ 0.90543283  0.54029976 -1.75614871];gap=58,|grad|=45,func=-27,dist_sq=7.1;avg:gap=58,|grad|=45,func=-27,dist_sq=7.1;tgap=28,|grad|=26,func=-7.9,dist_sq=4.8;tavg:gap=28,|grad|=26,func=-7.9,dist_sq=4.8\n",
      "PDk=0,x_k=[1.35004906 1.17331635 0.2471248 ],y_k=[0.11943088 1.25640773 1.23073762];gap=74,|grad|=83,func=-17,dist_sq=10;\n",
      "MPk=0,x_k=[1.35004906 1.17331635 0.2471248 ],y_k=[0.11943088 1.25640773 1.23073762];gap=74,|grad|=83,func=-17,dist_sq=10;avg:gap=74,|grad|=83,func=-17,dist_sq=10;tgap=59,|grad|=67,func=-14,dist_sq=9.5;tavg:gap=59,|grad|=67,func=-14,dist_sq=9.5\n",
      "MP_Balk=0,x_k=[1.35004906 1.17331635 0.2471248 ],y_k=[0.11943088 1.25640773 1.23073762];gap=74,|grad|=83,func=-17,dist_sq=10;avg:gap=74,|grad|=83,func=-17,dist_sq=10;tgap=66,|grad|=75,func=-15,dist_sq=9.9;tavg:gap=66,|grad|=75,func=-15,dist_sq=9.9\n",
      "MP_RLk=0,x_k=[1.35004906 1.17331635 0.2471248 ],y_k=[0.11943088 1.25640773 1.23073762];gap=74,|grad|=83,func=-17,dist_sq=10;avg:gap=74,|grad|=83,func=-17,dist_sq=10;tgap=47,|grad|=53,func=-11,dist_sq=8.8;tavg:gap=47,|grad|=53,func=-11,dist_sq=8.8\n",
      "PDk=0,x_k=[ 0.39955688 -1.08345195  1.55880697],y_k=[-0.25468843 -0.06254942 -0.52795736];gap=4.3e+02,|grad|=3.3e+02,func=-4.2,dist_sq=11;\n",
      "MPk=0,x_k=[ 0.39955688 -1.08345195  1.55880697],y_k=[-0.25468843 -0.06254942 -0.52795736];gap=4.3e+02,|grad|=3.3e+02,func=-4.2,dist_sq=11;avg:gap=4.3e+02,|grad|=3.3e+02,func=-4.2,dist_sq=11;tgap=3.4e+02,|grad|=2.7e+02,func=-13,dist_sq=9.8;tavg:gap=3.4e+02,|grad|=2.7e+02,func=-13,dist_sq=9.8\n",
      "MP_Balk=0,x_k=[ 0.39955688 -1.08345195  1.55880697],y_k=[-0.25468843 -0.06254942 -0.52795736];gap=4.3e+02,|grad|=3.3e+02,func=-4.2,dist_sq=11;avg:gap=4.3e+02,|grad|=3.3e+02,func=-4.2,dist_sq=11;tgap=3.8e+02,|grad|=3e+02,func=-8.8,dist_sq=11;tavg:gap=3.8e+02,|grad|=3e+02,func=-8.8,dist_sq=11\n",
      "MP_RLk=0,x_k=[ 0.39955688 -1.08345195  1.55880697],y_k=[-0.25468843 -0.06254942 -0.52795736];gap=4.3e+02,|grad|=3.3e+02,func=-4.2,dist_sq=11;avg:gap=4.3e+02,|grad|=3.3e+02,func=-4.2,dist_sq=11;tgap=2.6e+02,|grad|=2.2e+02,func=-17,dist_sq=8.7;tavg:gap=2.6e+02,|grad|=2.2e+02,func=-17,dist_sq=8.7\n",
      "PDk=0,x_k=[-0.42507105  0.4065097  -1.39852719],y_k=[-1.06319419 -2.06750539 -1.63400145];gap=7.3e+02,|grad|=6.5e+02,func=-3.5e+02,dist_sq=15;\n",
      "MPk=0,x_k=[-0.42507105  0.4065097  -1.39852719],y_k=[-1.06319419 -2.06750539 -1.63400145];gap=7.3e+02,|grad|=6.5e+02,func=-3.5e+02,dist_sq=15;avg:gap=7.3e+02,|grad|=6.5e+02,func=-3.5e+02,dist_sq=15;tgap=5.9e+02,|grad|=5.1e+02,func=-2.5e+02,dist_sq=14;tavg:gap=5.9e+02,|grad|=5.1e+02,func=-2.5e+02,dist_sq=14\n",
      "MP_Balk=0,x_k=[-0.42507105  0.4065097  -1.39852719],y_k=[-1.06319419 -2.06750539 -1.63400145];gap=7.3e+02,|grad|=6.5e+02,func=-3.5e+02,dist_sq=15;avg:gap=7.3e+02,|grad|=6.5e+02,func=-3.5e+02,dist_sq=15;tgap=6.6e+02,|grad|=5.8e+02,func=-3e+02,dist_sq=15;tavg:gap=6.6e+02,|grad|=5.8e+02,func=-3e+02,dist_sq=15\n",
      "MP_RLk=0,x_k=[-0.42507105  0.4065097  -1.39852719],y_k=[-1.06319419 -2.06750539 -1.63400145];gap=7.3e+02,|grad|=6.5e+02,func=-3.5e+02,dist_sq=15;avg:gap=7.3e+02,|grad|=6.5e+02,func=-3.5e+02,dist_sq=15;tgap=4.9e+02,|grad|=3.9e+02,func=-1.8e+02,dist_sq=13;tavg:gap=4.9e+02,|grad|=3.9e+02,func=-1.8e+02,dist_sq=13\n",
      "PDk=0,x_k=[1.08993921 0.35972625 0.15476128],y_k=[ 0.06999847 -2.22563316 -0.7856708 ];gap=20,|grad|=12,func=-4.4,dist_sq=9.9;\n",
      "MPk=0,x_k=[1.08993921 0.35972625 0.15476128],y_k=[ 0.06999847 -2.22563316 -0.7856708 ];gap=20,|grad|=12,func=-4.4,dist_sq=9.9;avg:gap=20,|grad|=12,func=-4.4,dist_sq=9.9;tgap=15,|grad|=9.5,func=-3.5,dist_sq=7.8;tavg:gap=15,|grad|=9.5,func=-3.5,dist_sq=7.8\n",
      "MP_Balk=0,x_k=[1.08993921 0.35972625 0.15476128],y_k=[ 0.06999847 -2.22563316 -0.7856708 ];gap=20,|grad|=12,func=-4.4,dist_sq=9.9;avg:gap=20,|grad|=12,func=-4.4,dist_sq=9.9;tgap=18,|grad|=11,func=-4,dist_sq=9;tavg:gap=18,|grad|=11,func=-4,dist_sq=9\n",
      "MP_RLk=0,x_k=[1.08993921 0.35972625 0.15476128],y_k=[ 0.06999847 -2.22563316 -0.7856708 ];gap=20,|grad|=12,func=-4.4,dist_sq=9.9;avg:gap=20,|grad|=12,func=-4.4,dist_sq=9.9;tgap=12,|grad|=8.2,func=-3.1,dist_sq=6.7;tavg:gap=12,|grad|=8.2,func=-3.1,dist_sq=6.7\n",
      "PDk=0,x_k=[0.13708964 1.88558205 0.55177363],y_k=[-0.50246763  0.75861706 -1.17734338];gap=30,|grad|=28,func=-9.8,dist_sq=12;\n",
      "MPk=0,x_k=[0.13708964 1.88558205 0.55177363],y_k=[-0.50246763  0.75861706 -1.17734338];gap=30,|grad|=28,func=-9.8,dist_sq=12;avg:gap=30,|grad|=28,func=-9.8,dist_sq=12;tgap=24,|grad|=23,func=-6.3,dist_sq=10;tavg:gap=24,|grad|=23,func=-6.3,dist_sq=10\n",
      "MP_Balk=0,x_k=[0.13708964 1.88558205 0.55177363],y_k=[-0.50246763  0.75861706 -1.17734338];gap=30,|grad|=28,func=-9.8,dist_sq=12;avg:gap=30,|grad|=28,func=-9.8,dist_sq=12;tgap=27,|grad|=25,func=-8.1,dist_sq=11;tavg:gap=27,|grad|=25,func=-8.1,dist_sq=11\n",
      "MP_RLk=0,x_k=[0.13708964 1.88558205 0.55177363],y_k=[-0.50246763  0.75861706 -1.17734338];gap=30,|grad|=28,func=-9.8,dist_sq=12;avg:gap=30,|grad|=28,func=-9.8,dist_sq=12;tgap=20,|grad|=19,func=-3.9,dist_sq=9.5;tavg:gap=20,|grad|=19,func=-3.9,dist_sq=9.5\n",
      "PDk=0,x_k=[-1.59544057 -0.34265554 -0.37610875],y_k=[ 0.26157395  1.17681149 -1.74714803];gap=1.4e+02,|grad|=1.2e+02,func=-66,dist_sq=12;\n",
      "MPk=0,x_k=[-1.59544057 -0.34265554 -0.37610875],y_k=[ 0.26157395  1.17681149 -1.74714803];gap=1.4e+02,|grad|=1.2e+02,func=-66,dist_sq=12;avg:gap=1.4e+02,|grad|=1.2e+02,func=-66,dist_sq=12;tgap=1.1e+02,|grad|=94,func=-46,dist_sq=11;tavg:gap=1.1e+02,|grad|=94,func=-46,dist_sq=11\n",
      "MP_Balk=0,x_k=[-1.59544057 -0.34265554 -0.37610875],y_k=[ 0.26157395  1.17681149 -1.74714803];gap=1.4e+02,|grad|=1.2e+02,func=-66,dist_sq=12;avg:gap=1.4e+02,|grad|=1.2e+02,func=-66,dist_sq=12;tgap=1.3e+02,|grad|=1.1e+02,func=-56,dist_sq=11;tavg:gap=1.3e+02,|grad|=1.1e+02,func=-56,dist_sq=11\n",
      "MP_RLk=0,x_k=[-1.59544057 -0.34265554 -0.37610875],y_k=[ 0.26157395  1.17681149 -1.74714803];gap=1.4e+02,|grad|=1.2e+02,func=-66,dist_sq=12;avg:gap=1.4e+02,|grad|=1.2e+02,func=-66,dist_sq=12;tgap=90,|grad|=70,func=-33,dist_sq=10;tavg:gap=90,|grad|=70,func=-33,dist_sq=10\n",
      "PDk=0,x_k=[-0.76513234  0.48417763  0.49983466],y_k=[ 0.6804771  -1.6270783  -2.16866309];gap=1.2e+03,|grad|=7.1e+02,func=-4.4e+02,dist_sq=20;\n",
      "MPk=0,x_k=[-0.76513234  0.48417763  0.49983466],y_k=[ 0.6804771  -1.6270783  -2.16866309];gap=1.2e+03,|grad|=7.1e+02,func=-4.4e+02,dist_sq=20;avg:gap=1.2e+03,|grad|=7.1e+02,func=-4.4e+02,dist_sq=20;tgap=7.5e+02,|grad|=5.4e+02,func=-2.7e+02,dist_sq=17;tavg:gap=7.5e+02,|grad|=5.4e+02,func=-2.7e+02,dist_sq=17\n",
      "MP_Balk=0,x_k=[-0.76513234  0.48417763  0.49983466],y_k=[ 0.6804771  -1.6270783  -2.16866309];gap=1.2e+03,|grad|=7.1e+02,func=-4.4e+02,dist_sq=20;avg:gap=1.2e+03,|grad|=7.1e+02,func=-4.4e+02,dist_sq=20;tgap=9.6e+02,|grad|=6.3e+02,func=-3.5e+02,dist_sq=19;tavg:gap=9.6e+02,|grad|=6.3e+02,func=-3.5e+02,dist_sq=19\n",
      "MP_RLk=0,x_k=[-0.76513234  0.48417763  0.49983466],y_k=[ 0.6804771  -1.6270783  -2.16866309];gap=1.2e+03,|grad|=7.1e+02,func=-4.4e+02,dist_sq=20;avg:gap=1.2e+03,|grad|=7.1e+02,func=-4.4e+02,dist_sq=20;tgap=4.5e+02,|grad|=3.7e+02,func=-1.5e+02,dist_sq=14;tavg:gap=4.5e+02,|grad|=3.7e+02,func=-1.5e+02,dist_sq=14\n",
      "PDk=0,x_k=[-1.69900116 -2.65916373 -0.47722317],y_k=[-0.27214642  0.81802918 -1.06530436];gap=4.1e+02,|grad|=1.3e+02,func=60,dist_sq=16;\n",
      "MPk=0,x_k=[-1.69900116 -2.65916373 -0.47722317],y_k=[-0.27214642  0.81802918 -1.06530436];gap=4.1e+02,|grad|=1.3e+02,func=60,dist_sq=16;avg:gap=4.1e+02,|grad|=1.3e+02,func=60,dist_sq=16;tgap=4.1e+02,|grad|=1.1e+02,func=60,dist_sq=15;tavg:gap=4.1e+02,|grad|=1.1e+02,func=60,dist_sq=15\n",
      "MP_Balk=0,x_k=[-1.69900116 -2.65916373 -0.47722317],y_k=[-0.27214642  0.81802918 -1.06530436];gap=4.1e+02,|grad|=1.3e+02,func=60,dist_sq=16;avg:gap=4.1e+02,|grad|=1.3e+02,func=60,dist_sq=16;tgap=4.1e+02,|grad|=1.2e+02,func=60,dist_sq=15;tavg:gap=4.1e+02,|grad|=1.2e+02,func=60,dist_sq=15\n",
      "MP_RLk=0,x_k=[-1.69900116 -2.65916373 -0.47722317],y_k=[-0.27214642  0.81802918 -1.06530436];gap=4.1e+02,|grad|=1.3e+02,func=60,dist_sq=16;avg:gap=4.1e+02,|grad|=1.3e+02,func=60,dist_sq=16;tgap=4.2e+02,|grad|=97,func=60,dist_sq=15;tavg:gap=4.2e+02,|grad|=97,func=60,dist_sq=15\n"
     ]
    }
   ],
   "metadata": {}
  },
  {
   "cell_type": "code",
   "execution_count": 151,
   "source": [
    "plt.loglog(metric_lists['kappa_x'], K/np.log(metric_lists['initial']/metric_lists['pd']).mean(axis=0), '.-', label='LPD')\n",
    "plt.loglog(metric_lists['kappa_x'], K/np.log(metric_lists['initial']/metric_lists['mp_bal']).mean(axis=0), 'o-.', label='MP Bal.')\n",
    "plt.loglog(metric_lists['kappa_x'], K/np.log(metric_lists['initial']/metric_lists['mp_rel']).mean(axis=0), 's-.', label='MP RL' )\n",
    "plt.loglog(metric_lists['kappa_x'], K/np.log(metric_lists['initial']/metric_lists['mp']).mean(axis=0), '.-.', label='MP')\n",
    "\n",
    "plt.loglog(metric_lists['kappa_x'], metric_lists['kappa_x']**0.5, '--', label=r'$\\sqrt{\\kappa_x}$')\n",
    "plt.loglog(metric_lists['kappa_x'], metric_lists['kappa_x'], ':', label='$\\kappa_x$')\n",
    "\n",
    "print('kappa_x', metric_lists['kappa_x'])\n",
    "print('sqrt(kappa_x)', metric_lists['kappa_x']**0.5)\n",
    "\n",
    "fig = matplotlib.pyplot.gcf()\n",
    "# fig.set_size_inches(5, 5)\n",
    "fig.set_size_inches(4, 3)\n",
    "\n",
    "plt.legend(ncol=2)\n",
    "timestamp = datetime.now().strftime(\"%Y%m%d-%H%M%S\")\n",
    "plotname = f'synthetic_vs_kappa_{timestamp}'\n",
    "plt.savefig(f'{plotname}.pdf', bbox_inches='tight')\n",
    "plt.savefig(f'{plotname}.png', bbox_inches='tight')\n",
    "plt.show()\n",
    "plt.close()"
   ],
   "outputs": [
    {
     "output_type": "stream",
     "name": "stdout",
     "text": [
      "kappa_x [  5.96046448  25.62890625  87.96388245 256.         656.84083557]\n",
      "sqrt(kappa_x) [ 2.44140625  5.0625      9.37890625 16.         25.62890625]\n"
     ]
    },
    {
     "output_type": "display_data",
     "data": {
      "image/png": "[encoded data removed]",
      "text/plain": [
       "<Figure size 288x216 with 1 Axes>"
      ]
     },
     "metadata": {
      "needs_background": "light"
     }
    }
   ],
   "metadata": {}
  }
 ],
 "metadata": {
  "orig_nbformat": 4,
  "language_info": {
   "name": "python",
   "version": "3.6.13",
   "mimetype": "text/x-python",
   "codemirror_mode": {
    "name": "ipython",
    "version": 3
   },
   "pygments_lexer": "ipython3",
   "nbconvert_exporter": "python",
   "file_extension": ".py"
  },
  "kernelspec": {
   "name": "python3",
   "display_name": "Python 3.6.13 64-bit ('pyt36': conda)"
  },
  "interpreter": {
   "hash": "5ff2831922231392dd600f46a2b02e173cd7e56aa3c33fa923342cb849ac65dc"
  }
 },
 "nbformat": 4,
 "nbformat_minor": 2
}